{
 "cells": [
  {
   "cell_type": "code",
   "execution_count": 1,
   "id": "21160016-13a1-40f9-8d1a-a1eb5834fa7f",
   "metadata": {},
   "outputs": [],
   "source": [
    "# Importing required library's \n",
    "import pandas as pd\n",
    "import matplotlib.pyplot as plt\n",
    "import seaborn as sns"
   ]
  },
  {
   "cell_type": "code",
   "execution_count": 2,
   "id": "c94379bc-81b4-4cc9-bb3d-27bf588c7fe5",
   "metadata": {},
   "outputs": [],
   "source": [
    "# Load CSV Files\n",
    "student_df = pd.read_csv('students.csv')\n",
    "course_activity_df = pd.read_csv('course_activity.csv')\n",
    "feedback_df = pd.read_csv('feedback.csv')"
   ]
  },
  {
   "cell_type": "code",
   "execution_count": 3,
   "id": "113efb16-8c96-4779-803d-2518bd60aa80",
   "metadata": {},
   "outputs": [],
   "source": [
    "# Display the first few rows of each to understand the structure \n",
    "student_head = student_df.head()\n",
    "course_activity_head = course_activity_df.head()\n",
    "feedback_head = feedback_df.head()"
   ]
  },
  {
   "cell_type": "code",
   "execution_count": 4,
   "id": "20d15078-6815-4d67-9c18-9b9b03253dab",
   "metadata": {},
   "outputs": [
    {
     "data": {
      "text/plain": [
       "(  Student_ID       Name  Age  Gender   Location Enrolment_Date\n",
       " 0       S001  Student_1   24  Female    Kolkata     24/11/2023\n",
       " 1       S002  Student_2   32   Other    Chennai     27/02/2023\n",
       " 2       S003  Student_3   28   Other     Mumbai     13/01/2023\n",
       " 3       S004  Student_4   25  Female  Bangalore     21/05/2023\n",
       " 4       S005  Student_5   24   Other      Delhi     06/05/2023,\n",
       "   Student_ID Course_ID        Date  Time_Spent_Minutes  Completion_Percentage\n",
       " 0       S001     PY202  05/01/2024                  90                  46.10\n",
       " 1       S001     DM101  28/01/2024                 155                  88.87\n",
       " 2       S001     UX303  28/01/2024                 177                  54.93\n",
       " 3       S002     PY202  03/02/2024                  45                  32.20\n",
       " 4       S002     UX303  15/03/2024                 119                  90.80,\n",
       "   Student_ID Course_ID  Rating       Feedback_Text\n",
       " 0       S057     UX303       2      Too fast-paced\n",
       " 1       S063     PY202       2  Loved the examples\n",
       " 2       S022     PY202       4     Could be better\n",
       " 3       S011     PY202       5   Needs improvement\n",
       " 4       S073     WD404       4     Could be better)"
      ]
     },
     "execution_count": 4,
     "metadata": {},
     "output_type": "execute_result"
    }
   ],
   "source": [
    "student_head,course_activity_head,feedback_head"
   ]
  },
  {
   "cell_type": "code",
   "execution_count": 5,
   "id": "75d6c1e9-c923-48f6-812d-ef98d2237e09",
   "metadata": {},
   "outputs": [
    {
     "name": "stdout",
     "output_type": "stream",
     "text": [
      "<class 'pandas.core.frame.DataFrame'>\n",
      "RangeIndex: 100 entries, 0 to 99\n",
      "Data columns (total 6 columns):\n",
      " #   Column          Non-Null Count  Dtype \n",
      "---  ------          --------------  ----- \n",
      " 0   Student_ID      100 non-null    object\n",
      " 1   Name            100 non-null    object\n",
      " 2   Age             100 non-null    int64 \n",
      " 3   Gender          100 non-null    object\n",
      " 4   Location        100 non-null    object\n",
      " 5   Enrolment_Date  100 non-null    object\n",
      "dtypes: int64(1), object(5)\n",
      "memory usage: 4.8+ KB\n",
      "<class 'pandas.core.frame.DataFrame'>\n",
      "RangeIndex: 659 entries, 0 to 658\n",
      "Data columns (total 5 columns):\n",
      " #   Column                 Non-Null Count  Dtype  \n",
      "---  ------                 --------------  -----  \n",
      " 0   Student_ID             659 non-null    object \n",
      " 1   Course_ID              659 non-null    object \n",
      " 2   Date                   659 non-null    object \n",
      " 3   Time_Spent_Minutes     659 non-null    int64  \n",
      " 4   Completion_Percentage  659 non-null    float64\n",
      "dtypes: float64(1), int64(1), object(3)\n",
      "memory usage: 25.9+ KB\n",
      "<class 'pandas.core.frame.DataFrame'>\n",
      "RangeIndex: 80 entries, 0 to 79\n",
      "Data columns (total 4 columns):\n",
      " #   Column         Non-Null Count  Dtype \n",
      "---  ------         --------------  ----- \n",
      " 0   Student_ID     80 non-null     object\n",
      " 1   Course_ID      80 non-null     object\n",
      " 2   Rating         80 non-null     int64 \n",
      " 3   Feedback_Text  80 non-null     object\n",
      "dtypes: int64(1), object(3)\n",
      "memory usage: 2.6+ KB\n"
     ]
    },
    {
     "data": {
      "text/plain": [
       "(None, None, None)"
      ]
     },
     "execution_count": 5,
     "metadata": {},
     "output_type": "execute_result"
    }
   ],
   "source": [
    "#checking data types and other information.\n",
    "student_df.info(),course_activity_df.info(),feedback_df.info()"
   ]
  },
  {
   "cell_type": "markdown",
   "id": "4fc2f917-7d0c-40f7-b51e-df17dcfcc8cb",
   "metadata": {},
   "source": [
    "# Enrolment_date, date  is an object \n",
    "### convert to datetime"
   ]
  },
  {
   "cell_type": "code",
   "execution_count": 6,
   "id": "a538c29e-9f2f-49d8-8085-f27fd6b7cb0b",
   "metadata": {},
   "outputs": [],
   "source": [
    "# standardize data formats\n",
    "student_df['Enrolment_Date'] = pd.to_datetime(student_df['Enrolment_Date'],\n",
    "                                             dayfirst=True, errors='coerce')"
   ]
  },
  {
   "cell_type": "code",
   "execution_count": 7,
   "id": "4e5b74ee-1169-499f-8e41-b7d17cbdfdbc",
   "metadata": {},
   "outputs": [],
   "source": [
    "course_activity_df['Date'] = pd.to_datetime(course_activity_df['Date'],\n",
    "                                             dayfirst=True, errors='coerce')"
   ]
  },
  {
   "cell_type": "markdown",
   "id": "efb0633f-06b4-461c-9826-495f5f080286",
   "metadata": {},
   "source": [
    "## Conver data types "
   ]
  },
  {
   "cell_type": "code",
   "execution_count": 8,
   "id": "dff0b93d-6ae8-486e-9d15-7b92d4b512d8",
   "metadata": {},
   "outputs": [],
   "source": [
    "course_activity_df['Time_Spent_Minutes'] = pd.to_numeric(course_activity_df['Time_Spent_Minutes'],\n",
    "                                                        errors = 'coerce')\n",
    "course_activity_df['Completion_Percentage'] = pd.to_numeric(course_activity_df['Completion_Percentage'],\n",
    "                                                        errors = 'coerce')\n",
    "feedback_df['Rating'] = pd.to_numeric(feedback_df['Rating'],\n",
    "                                                        errors = 'coerce')\n"
   ]
  },
  {
   "cell_type": "markdown",
   "id": "93372ee6-01f9-472e-9329-8574689e6124",
   "metadata": {},
   "source": [
    "## Check for missing values"
   ]
  },
  {
   "cell_type": "code",
   "execution_count": 9,
   "id": "560611a3-a47b-4868-9d3e-5587a641e578",
   "metadata": {},
   "outputs": [
    {
     "data": {
      "text/plain": [
       "(Student_ID               0\n",
       " Course_ID                0\n",
       " Date                     0\n",
       " Time_Spent_Minutes       0\n",
       " Completion_Percentage    0\n",
       " dtype: int64,\n",
       " Student_ID       0\n",
       " Course_ID        0\n",
       " Rating           0\n",
       " Feedback_Text    0\n",
       " dtype: int64,\n",
       " Student_ID        0\n",
       " Name              0\n",
       " Age               0\n",
       " Gender            0\n",
       " Location          0\n",
       " Enrolment_Date    0\n",
       " dtype: int64)"
      ]
     },
     "execution_count": 9,
     "metadata": {},
     "output_type": "execute_result"
    }
   ],
   "source": [
    "missing_students = student_df.isnull().sum()\n",
    "missing_course_Activity =course_activity_df.isnull().sum()\n",
    "missing_feedback = feedback_df.isnull().sum()\n",
    "missing_course_Activity,missing_feedback,missing_students"
   ]
  },
  {
   "cell_type": "markdown",
   "id": "d3bb8c12-51cd-48a8-828a-d27c0510afd1",
   "metadata": {},
   "source": [
    "# Remove Duplicates"
   ]
  },
  {
   "cell_type": "code",
   "execution_count": 10,
   "id": "ab29886c-8642-4482-a08f-b56b3fbeb5b7",
   "metadata": {},
   "outputs": [],
   "source": [
    "student_df.drop_duplicates(inplace=True)\n",
    "course_activity_df.drop_duplicates(inplace=True)\n",
    "feedback_df.drop_duplicates(inplace=True)"
   ]
  },
  {
   "cell_type": "markdown",
   "id": "16a318ae-c237-4a46-adc8-9a075728feea",
   "metadata": {},
   "source": [
    "## Cleaned data & Missing value summary"
   ]
  },
  {
   "cell_type": "code",
   "execution_count": 11,
   "id": "6cf333f9-8a7a-4c69-b40d-e1d728c17cbd",
   "metadata": {},
   "outputs": [
    {
     "data": {
      "text/plain": [
       "{'Missing Values - Students': Student_ID        0\n",
       " Name              0\n",
       " Age               0\n",
       " Gender            0\n",
       " Location          0\n",
       " Enrolment_Date    0\n",
       " dtype: int64,\n",
       " 'Missing Values - course_Activity': Student_ID               0\n",
       " Course_ID                0\n",
       " Date                     0\n",
       " Time_Spent_Minutes       0\n",
       " Completion_Percentage    0\n",
       " dtype: int64,\n",
       " 'Missing Values - Feedback': Student_ID       0\n",
       " Course_ID        0\n",
       " Rating           0\n",
       " Feedback_Text    0\n",
       " dtype: int64,\n",
       " 'Students Sample':   Student_ID       Name  Age  Gender   Location Enrolment_Date\n",
       " 0       S001  Student_1   24  Female    Kolkata     2023-11-24\n",
       " 1       S002  Student_2   32   Other    Chennai     2023-02-27\n",
       " 2       S003  Student_3   28   Other     Mumbai     2023-01-13\n",
       " 3       S004  Student_4   25  Female  Bangalore     2023-05-21\n",
       " 4       S005  Student_5   24   Other      Delhi     2023-05-06,\n",
       " 'Activity Sample':   Student_ID Course_ID       Date  Time_Spent_Minutes  Completion_Percentage\n",
       " 0       S001     PY202 2024-01-05                  90                  46.10\n",
       " 1       S001     DM101 2024-01-28                 155                  88.87\n",
       " 2       S001     UX303 2024-01-28                 177                  54.93\n",
       " 3       S002     PY202 2024-02-03                  45                  32.20\n",
       " 4       S002     UX303 2024-03-15                 119                  90.80,\n",
       " 'Feedback Sample':   Student_ID Course_ID  Rating       Feedback_Text\n",
       " 0       S057     UX303       2      Too fast-paced\n",
       " 1       S063     PY202       2  Loved the examples\n",
       " 2       S022     PY202       4     Could be better\n",
       " 3       S011     PY202       5   Needs improvement\n",
       " 4       S073     WD404       4     Could be better}"
      ]
     },
     "execution_count": 11,
     "metadata": {},
     "output_type": "execute_result"
    }
   ],
   "source": [
    "{\n",
    "    \"Missing Values - Students\": missing_students,\n",
    "    \"Missing Values - course_Activity\": missing_course_Activity,\n",
    "    \"Missing Values - Feedback\": missing_feedback,\n",
    "    \"Students Sample\": student_df.head(),\n",
    "    \"Activity Sample\": course_activity_df.head(),\n",
    "    \"Feedback Sample\": feedback_df.head()\n",
    "}"
   ]
  },
  {
   "cell_type": "code",
   "execution_count": 12,
   "id": "29a7deca-0dc2-478e-838a-a3fcb233f43f",
   "metadata": {},
   "outputs": [],
   "source": [
    "# Saving cleaned data to CSV\n",
    "student_df.to_csv('clean_student.csv')\n",
    "course_activity_df.to_csv('clean_course_activity.csv')\n",
    "feedback_df.to_csv('clean_feedback.csv')"
   ]
  },
  {
   "cell_type": "markdown",
   "id": "7546c256-3a0f-4cdb-ad35-066b27a6c221",
   "metadata": {},
   "source": [
    "# Ready for analysis"
   ]
  },
  {
   "cell_type": "markdown",
   "id": "3c356907-27a6-4dcd-b7ed-2e967c3a3d0c",
   "metadata": {},
   "source": [
    "### Exploratory Data Analysis (EDA)"
   ]
  },
  {
   "cell_type": "markdown",
   "id": "86f99d78-9fe5-4375-a21a-5524ee08e332",
   "metadata": {},
   "source": [
    "### What is the overall average completion rate across courses?"
   ]
  },
  {
   "cell_type": "code",
   "execution_count": 13,
   "id": "cd7aec11-8e9e-4ff2-a6bd-394de3d670e4",
   "metadata": {},
   "outputs": [],
   "source": [
    "# working with course activity data\n",
    "avg_completion_rate = course_activity_df['Completion_Percentage'].mean().round(2)"
   ]
  },
  {
   "cell_type": "code",
   "execution_count": 14,
   "id": "40487e9c-b8ac-41a5-8967-21dbde8fb0dd",
   "metadata": {},
   "outputs": [
    {
     "data": {
      "text/plain": [
       "54.78"
      ]
     },
     "execution_count": 14,
     "metadata": {},
     "output_type": "execute_result"
    }
   ],
   "source": [
    "avg_completion_rate"
   ]
  },
  {
   "cell_type": "markdown",
   "id": "1e9ada3c-78a4-4516-a7aa-8cd90d68d669",
   "metadata": {},
   "source": [
    "### Which course has the highest and lowest average engagement time?"
   ]
  },
  {
   "cell_type": "code",
   "execution_count": 15,
   "id": "0a640a59-268c-4007-9cfc-2a7db47b27ce",
   "metadata": {},
   "outputs": [
    {
     "data": {
      "text/plain": [
       "Course_ID\n",
       "DM101    102.427673\n",
       "PY202     93.902439\n",
       "UX303     99.816568\n",
       "WD404     96.419162\n",
       "Name: Time_Spent_Minutes, dtype: float64"
      ]
     },
     "execution_count": 15,
     "metadata": {},
     "output_type": "execute_result"
    }
   ],
   "source": [
    "avg_time_per_course = course_activity_df.groupby('Course_ID')['Time_Spent_Minutes'].mean()\n",
    "avg_time_per_course"
   ]
  },
  {
   "cell_type": "code",
   "execution_count": 16,
   "id": "0368aeda-0df9-425d-8633-b561793307e9",
   "metadata": {},
   "outputs": [
    {
     "data": {
      "text/plain": [
       "{'highest_engagement_time': ('DM101', 102.43),\n",
       " 'lowest_engagement_course': ('PY202', 93.9)}"
      ]
     },
     "execution_count": 16,
     "metadata": {},
     "output_type": "execute_result"
    }
   ],
   "source": [
    "highest_engagement_course = avg_time_per_course.idxmax()\n",
    "lowest_engagement_course = avg_time_per_course.idxmin()\n",
    "{\n",
    "    'highest_engagement_time' : (highest_engagement_course,round(avg_time_per_course.max(),2)),\n",
    "    'lowest_engagement_course' : (lowest_engagement_course,round(avg_time_per_course.min(),2))\n",
    "}"
   ]
  },
  {
   "cell_type": "markdown",
   "id": "0d2de1cd-1d47-457e-a9f5-2b0525299164",
   "metadata": {},
   "source": [
    "### How does engagement differ by age group or location?"
   ]
  },
  {
   "cell_type": "code",
   "execution_count": 17,
   "id": "3edbe8f5-e85c-426b-bb9b-477b3a84f15f",
   "metadata": {},
   "outputs": [
    {
     "data": {
      "text/html": [
       "<div>\n",
       "<style scoped>\n",
       "    .dataframe tbody tr th:only-of-type {\n",
       "        vertical-align: middle;\n",
       "    }\n",
       "\n",
       "    .dataframe tbody tr th {\n",
       "        vertical-align: top;\n",
       "    }\n",
       "\n",
       "    .dataframe thead th {\n",
       "        text-align: right;\n",
       "    }\n",
       "</style>\n",
       "<table border=\"1\" class=\"dataframe\">\n",
       "  <thead>\n",
       "    <tr style=\"text-align: right;\">\n",
       "      <th></th>\n",
       "      <th>Student_ID</th>\n",
       "      <th>Course_ID</th>\n",
       "      <th>Date</th>\n",
       "      <th>Time_Spent_Minutes</th>\n",
       "      <th>Completion_Percentage</th>\n",
       "      <th>Name</th>\n",
       "      <th>Age</th>\n",
       "      <th>Gender</th>\n",
       "      <th>Location</th>\n",
       "      <th>Enrolment_Date</th>\n",
       "    </tr>\n",
       "  </thead>\n",
       "  <tbody>\n",
       "    <tr>\n",
       "      <th>0</th>\n",
       "      <td>S001</td>\n",
       "      <td>PY202</td>\n",
       "      <td>2024-01-05</td>\n",
       "      <td>90</td>\n",
       "      <td>46.10</td>\n",
       "      <td>Student_1</td>\n",
       "      <td>24</td>\n",
       "      <td>Female</td>\n",
       "      <td>Kolkata</td>\n",
       "      <td>2023-11-24</td>\n",
       "    </tr>\n",
       "    <tr>\n",
       "      <th>1</th>\n",
       "      <td>S001</td>\n",
       "      <td>DM101</td>\n",
       "      <td>2024-01-28</td>\n",
       "      <td>155</td>\n",
       "      <td>88.87</td>\n",
       "      <td>Student_1</td>\n",
       "      <td>24</td>\n",
       "      <td>Female</td>\n",
       "      <td>Kolkata</td>\n",
       "      <td>2023-11-24</td>\n",
       "    </tr>\n",
       "    <tr>\n",
       "      <th>2</th>\n",
       "      <td>S001</td>\n",
       "      <td>UX303</td>\n",
       "      <td>2024-01-28</td>\n",
       "      <td>177</td>\n",
       "      <td>54.93</td>\n",
       "      <td>Student_1</td>\n",
       "      <td>24</td>\n",
       "      <td>Female</td>\n",
       "      <td>Kolkata</td>\n",
       "      <td>2023-11-24</td>\n",
       "    </tr>\n",
       "    <tr>\n",
       "      <th>3</th>\n",
       "      <td>S002</td>\n",
       "      <td>PY202</td>\n",
       "      <td>2024-02-03</td>\n",
       "      <td>45</td>\n",
       "      <td>32.20</td>\n",
       "      <td>Student_2</td>\n",
       "      <td>32</td>\n",
       "      <td>Other</td>\n",
       "      <td>Chennai</td>\n",
       "      <td>2023-02-27</td>\n",
       "    </tr>\n",
       "    <tr>\n",
       "      <th>4</th>\n",
       "      <td>S002</td>\n",
       "      <td>UX303</td>\n",
       "      <td>2024-03-15</td>\n",
       "      <td>119</td>\n",
       "      <td>90.80</td>\n",
       "      <td>Student_2</td>\n",
       "      <td>32</td>\n",
       "      <td>Other</td>\n",
       "      <td>Chennai</td>\n",
       "      <td>2023-02-27</td>\n",
       "    </tr>\n",
       "    <tr>\n",
       "      <th>...</th>\n",
       "      <td>...</td>\n",
       "      <td>...</td>\n",
       "      <td>...</td>\n",
       "      <td>...</td>\n",
       "      <td>...</td>\n",
       "      <td>...</td>\n",
       "      <td>...</td>\n",
       "      <td>...</td>\n",
       "      <td>...</td>\n",
       "      <td>...</td>\n",
       "    </tr>\n",
       "    <tr>\n",
       "      <th>654</th>\n",
       "      <td>S100</td>\n",
       "      <td>PY202</td>\n",
       "      <td>2024-03-03</td>\n",
       "      <td>83</td>\n",
       "      <td>22.63</td>\n",
       "      <td>Student_100</td>\n",
       "      <td>22</td>\n",
       "      <td>Other</td>\n",
       "      <td>Bangalore</td>\n",
       "      <td>2023-06-16</td>\n",
       "    </tr>\n",
       "    <tr>\n",
       "      <th>655</th>\n",
       "      <td>S100</td>\n",
       "      <td>UX303</td>\n",
       "      <td>2024-02-27</td>\n",
       "      <td>168</td>\n",
       "      <td>14.83</td>\n",
       "      <td>Student_100</td>\n",
       "      <td>22</td>\n",
       "      <td>Other</td>\n",
       "      <td>Bangalore</td>\n",
       "      <td>2023-06-16</td>\n",
       "    </tr>\n",
       "    <tr>\n",
       "      <th>656</th>\n",
       "      <td>S100</td>\n",
       "      <td>UX303</td>\n",
       "      <td>2024-01-02</td>\n",
       "      <td>134</td>\n",
       "      <td>22.29</td>\n",
       "      <td>Student_100</td>\n",
       "      <td>22</td>\n",
       "      <td>Other</td>\n",
       "      <td>Bangalore</td>\n",
       "      <td>2023-06-16</td>\n",
       "    </tr>\n",
       "    <tr>\n",
       "      <th>657</th>\n",
       "      <td>S100</td>\n",
       "      <td>WD404</td>\n",
       "      <td>2024-03-12</td>\n",
       "      <td>139</td>\n",
       "      <td>68.78</td>\n",
       "      <td>Student_100</td>\n",
       "      <td>22</td>\n",
       "      <td>Other</td>\n",
       "      <td>Bangalore</td>\n",
       "      <td>2023-06-16</td>\n",
       "    </tr>\n",
       "    <tr>\n",
       "      <th>658</th>\n",
       "      <td>S100</td>\n",
       "      <td>WD404</td>\n",
       "      <td>2024-03-28</td>\n",
       "      <td>135</td>\n",
       "      <td>47.41</td>\n",
       "      <td>Student_100</td>\n",
       "      <td>22</td>\n",
       "      <td>Other</td>\n",
       "      <td>Bangalore</td>\n",
       "      <td>2023-06-16</td>\n",
       "    </tr>\n",
       "  </tbody>\n",
       "</table>\n",
       "<p>659 rows × 10 columns</p>\n",
       "</div>"
      ],
      "text/plain": [
       "    Student_ID Course_ID       Date  Time_Spent_Minutes  \\\n",
       "0         S001     PY202 2024-01-05                  90   \n",
       "1         S001     DM101 2024-01-28                 155   \n",
       "2         S001     UX303 2024-01-28                 177   \n",
       "3         S002     PY202 2024-02-03                  45   \n",
       "4         S002     UX303 2024-03-15                 119   \n",
       "..         ...       ...        ...                 ...   \n",
       "654       S100     PY202 2024-03-03                  83   \n",
       "655       S100     UX303 2024-02-27                 168   \n",
       "656       S100     UX303 2024-01-02                 134   \n",
       "657       S100     WD404 2024-03-12                 139   \n",
       "658       S100     WD404 2024-03-28                 135   \n",
       "\n",
       "     Completion_Percentage         Name  Age  Gender   Location Enrolment_Date  \n",
       "0                    46.10    Student_1   24  Female    Kolkata     2023-11-24  \n",
       "1                    88.87    Student_1   24  Female    Kolkata     2023-11-24  \n",
       "2                    54.93    Student_1   24  Female    Kolkata     2023-11-24  \n",
       "3                    32.20    Student_2   32   Other    Chennai     2023-02-27  \n",
       "4                    90.80    Student_2   32   Other    Chennai     2023-02-27  \n",
       "..                     ...          ...  ...     ...        ...            ...  \n",
       "654                  22.63  Student_100   22   Other  Bangalore     2023-06-16  \n",
       "655                  14.83  Student_100   22   Other  Bangalore     2023-06-16  \n",
       "656                  22.29  Student_100   22   Other  Bangalore     2023-06-16  \n",
       "657                  68.78  Student_100   22   Other  Bangalore     2023-06-16  \n",
       "658                  47.41  Student_100   22   Other  Bangalore     2023-06-16  \n",
       "\n",
       "[659 rows x 10 columns]"
      ]
     },
     "execution_count": 17,
     "metadata": {},
     "output_type": "execute_result"
    }
   ],
   "source": [
    "# Merge course_activity_df and student_df\n",
    "course_activity_merged = course_activity_df.merge(student_df, on='Student_ID')\n",
    "course_activity_merged"
   ]
  },
  {
   "cell_type": "code",
   "execution_count": 18,
   "id": "e640ccd9-20da-47d5-a7d9-c10c9b6dabb1",
   "metadata": {},
   "outputs": [],
   "source": [
    "# create age groups\n",
    "bins = [0, 20, 30, 40, 100]\n",
    "labels = ['<20','21-30','31-40','40+']\n",
    "course_activity_merged['Age_Group'] = pd.cut(course_activity_merged['Age'], bins=bins, labels=labels,\n",
    "                                            right=False)"
   ]
  },
  {
   "cell_type": "code",
   "execution_count": 19,
   "id": "6c4ab995-7c23-4799-bb30-66cd96393b37",
   "metadata": {},
   "outputs": [
    {
     "data": {
      "text/html": [
       "<div>\n",
       "<style scoped>\n",
       "    .dataframe tbody tr th:only-of-type {\n",
       "        vertical-align: middle;\n",
       "    }\n",
       "\n",
       "    .dataframe tbody tr th {\n",
       "        vertical-align: top;\n",
       "    }\n",
       "\n",
       "    .dataframe thead th {\n",
       "        text-align: right;\n",
       "    }\n",
       "</style>\n",
       "<table border=\"1\" class=\"dataframe\">\n",
       "  <thead>\n",
       "    <tr style=\"text-align: right;\">\n",
       "      <th></th>\n",
       "      <th>Student_ID</th>\n",
       "      <th>Course_ID</th>\n",
       "      <th>Date</th>\n",
       "      <th>Time_Spent_Minutes</th>\n",
       "      <th>Completion_Percentage</th>\n",
       "      <th>Name</th>\n",
       "      <th>Age</th>\n",
       "      <th>Gender</th>\n",
       "      <th>Location</th>\n",
       "      <th>Enrolment_Date</th>\n",
       "      <th>Age_Group</th>\n",
       "    </tr>\n",
       "  </thead>\n",
       "  <tbody>\n",
       "    <tr>\n",
       "      <th>0</th>\n",
       "      <td>S001</td>\n",
       "      <td>PY202</td>\n",
       "      <td>2024-01-05</td>\n",
       "      <td>90</td>\n",
       "      <td>46.10</td>\n",
       "      <td>Student_1</td>\n",
       "      <td>24</td>\n",
       "      <td>Female</td>\n",
       "      <td>Kolkata</td>\n",
       "      <td>2023-11-24</td>\n",
       "      <td>21-30</td>\n",
       "    </tr>\n",
       "    <tr>\n",
       "      <th>1</th>\n",
       "      <td>S001</td>\n",
       "      <td>DM101</td>\n",
       "      <td>2024-01-28</td>\n",
       "      <td>155</td>\n",
       "      <td>88.87</td>\n",
       "      <td>Student_1</td>\n",
       "      <td>24</td>\n",
       "      <td>Female</td>\n",
       "      <td>Kolkata</td>\n",
       "      <td>2023-11-24</td>\n",
       "      <td>21-30</td>\n",
       "    </tr>\n",
       "    <tr>\n",
       "      <th>2</th>\n",
       "      <td>S001</td>\n",
       "      <td>UX303</td>\n",
       "      <td>2024-01-28</td>\n",
       "      <td>177</td>\n",
       "      <td>54.93</td>\n",
       "      <td>Student_1</td>\n",
       "      <td>24</td>\n",
       "      <td>Female</td>\n",
       "      <td>Kolkata</td>\n",
       "      <td>2023-11-24</td>\n",
       "      <td>21-30</td>\n",
       "    </tr>\n",
       "    <tr>\n",
       "      <th>3</th>\n",
       "      <td>S002</td>\n",
       "      <td>PY202</td>\n",
       "      <td>2024-02-03</td>\n",
       "      <td>45</td>\n",
       "      <td>32.20</td>\n",
       "      <td>Student_2</td>\n",
       "      <td>32</td>\n",
       "      <td>Other</td>\n",
       "      <td>Chennai</td>\n",
       "      <td>2023-02-27</td>\n",
       "      <td>31-40</td>\n",
       "    </tr>\n",
       "    <tr>\n",
       "      <th>4</th>\n",
       "      <td>S002</td>\n",
       "      <td>UX303</td>\n",
       "      <td>2024-03-15</td>\n",
       "      <td>119</td>\n",
       "      <td>90.80</td>\n",
       "      <td>Student_2</td>\n",
       "      <td>32</td>\n",
       "      <td>Other</td>\n",
       "      <td>Chennai</td>\n",
       "      <td>2023-02-27</td>\n",
       "      <td>31-40</td>\n",
       "    </tr>\n",
       "    <tr>\n",
       "      <th>...</th>\n",
       "      <td>...</td>\n",
       "      <td>...</td>\n",
       "      <td>...</td>\n",
       "      <td>...</td>\n",
       "      <td>...</td>\n",
       "      <td>...</td>\n",
       "      <td>...</td>\n",
       "      <td>...</td>\n",
       "      <td>...</td>\n",
       "      <td>...</td>\n",
       "      <td>...</td>\n",
       "    </tr>\n",
       "    <tr>\n",
       "      <th>654</th>\n",
       "      <td>S100</td>\n",
       "      <td>PY202</td>\n",
       "      <td>2024-03-03</td>\n",
       "      <td>83</td>\n",
       "      <td>22.63</td>\n",
       "      <td>Student_100</td>\n",
       "      <td>22</td>\n",
       "      <td>Other</td>\n",
       "      <td>Bangalore</td>\n",
       "      <td>2023-06-16</td>\n",
       "      <td>21-30</td>\n",
       "    </tr>\n",
       "    <tr>\n",
       "      <th>655</th>\n",
       "      <td>S100</td>\n",
       "      <td>UX303</td>\n",
       "      <td>2024-02-27</td>\n",
       "      <td>168</td>\n",
       "      <td>14.83</td>\n",
       "      <td>Student_100</td>\n",
       "      <td>22</td>\n",
       "      <td>Other</td>\n",
       "      <td>Bangalore</td>\n",
       "      <td>2023-06-16</td>\n",
       "      <td>21-30</td>\n",
       "    </tr>\n",
       "    <tr>\n",
       "      <th>656</th>\n",
       "      <td>S100</td>\n",
       "      <td>UX303</td>\n",
       "      <td>2024-01-02</td>\n",
       "      <td>134</td>\n",
       "      <td>22.29</td>\n",
       "      <td>Student_100</td>\n",
       "      <td>22</td>\n",
       "      <td>Other</td>\n",
       "      <td>Bangalore</td>\n",
       "      <td>2023-06-16</td>\n",
       "      <td>21-30</td>\n",
       "    </tr>\n",
       "    <tr>\n",
       "      <th>657</th>\n",
       "      <td>S100</td>\n",
       "      <td>WD404</td>\n",
       "      <td>2024-03-12</td>\n",
       "      <td>139</td>\n",
       "      <td>68.78</td>\n",
       "      <td>Student_100</td>\n",
       "      <td>22</td>\n",
       "      <td>Other</td>\n",
       "      <td>Bangalore</td>\n",
       "      <td>2023-06-16</td>\n",
       "      <td>21-30</td>\n",
       "    </tr>\n",
       "    <tr>\n",
       "      <th>658</th>\n",
       "      <td>S100</td>\n",
       "      <td>WD404</td>\n",
       "      <td>2024-03-28</td>\n",
       "      <td>135</td>\n",
       "      <td>47.41</td>\n",
       "      <td>Student_100</td>\n",
       "      <td>22</td>\n",
       "      <td>Other</td>\n",
       "      <td>Bangalore</td>\n",
       "      <td>2023-06-16</td>\n",
       "      <td>21-30</td>\n",
       "    </tr>\n",
       "  </tbody>\n",
       "</table>\n",
       "<p>659 rows × 11 columns</p>\n",
       "</div>"
      ],
      "text/plain": [
       "    Student_ID Course_ID       Date  Time_Spent_Minutes  \\\n",
       "0         S001     PY202 2024-01-05                  90   \n",
       "1         S001     DM101 2024-01-28                 155   \n",
       "2         S001     UX303 2024-01-28                 177   \n",
       "3         S002     PY202 2024-02-03                  45   \n",
       "4         S002     UX303 2024-03-15                 119   \n",
       "..         ...       ...        ...                 ...   \n",
       "654       S100     PY202 2024-03-03                  83   \n",
       "655       S100     UX303 2024-02-27                 168   \n",
       "656       S100     UX303 2024-01-02                 134   \n",
       "657       S100     WD404 2024-03-12                 139   \n",
       "658       S100     WD404 2024-03-28                 135   \n",
       "\n",
       "     Completion_Percentage         Name  Age  Gender   Location  \\\n",
       "0                    46.10    Student_1   24  Female    Kolkata   \n",
       "1                    88.87    Student_1   24  Female    Kolkata   \n",
       "2                    54.93    Student_1   24  Female    Kolkata   \n",
       "3                    32.20    Student_2   32   Other    Chennai   \n",
       "4                    90.80    Student_2   32   Other    Chennai   \n",
       "..                     ...          ...  ...     ...        ...   \n",
       "654                  22.63  Student_100   22   Other  Bangalore   \n",
       "655                  14.83  Student_100   22   Other  Bangalore   \n",
       "656                  22.29  Student_100   22   Other  Bangalore   \n",
       "657                  68.78  Student_100   22   Other  Bangalore   \n",
       "658                  47.41  Student_100   22   Other  Bangalore   \n",
       "\n",
       "    Enrolment_Date Age_Group  \n",
       "0       2023-11-24     21-30  \n",
       "1       2023-11-24     21-30  \n",
       "2       2023-11-24     21-30  \n",
       "3       2023-02-27     31-40  \n",
       "4       2023-02-27     31-40  \n",
       "..             ...       ...  \n",
       "654     2023-06-16     21-30  \n",
       "655     2023-06-16     21-30  \n",
       "656     2023-06-16     21-30  \n",
       "657     2023-06-16     21-30  \n",
       "658     2023-06-16     21-30  \n",
       "\n",
       "[659 rows x 11 columns]"
      ]
     },
     "execution_count": 19,
     "metadata": {},
     "output_type": "execute_result"
    }
   ],
   "source": [
    "course_activity_merged"
   ]
  },
  {
   "cell_type": "code",
   "execution_count": 20,
   "id": "e7064df1-512f-42cd-9825-c4b95bbba3b7",
   "metadata": {},
   "outputs": [
    {
     "name": "stderr",
     "output_type": "stream",
     "text": [
      "C:\\Users\\yoges\\AppData\\Local\\Temp\\ipykernel_29296\\538864274.py:1: FutureWarning: The default of observed=False is deprecated and will be changed to True in a future version of pandas. Pass observed=False to retain current behavior or observed=True to adopt the future default and silence this warning.\n",
      "  engagement_by_age = course_activity_merged.groupby('Age_Group')['Time_Spent_Minutes'].mean()\n"
     ]
    },
    {
     "data": {
      "text/plain": [
       "{'engagement_by_age': Age_Group\n",
       " <20      104.11\n",
       " 21-30     97.80\n",
       " 31-40     95.53\n",
       " 40+         NaN\n",
       " Name: Time_Spent_Minutes, dtype: float64,\n",
       " 'engagement_by_location': Location\n",
       " Bangalore     98.00\n",
       " Chennai       90.95\n",
       " Delhi        103.30\n",
       " Kolkata      104.38\n",
       " Mumbai        95.44\n",
       " Name: Time_Spent_Minutes, dtype: float64}"
      ]
     },
     "execution_count": 20,
     "metadata": {},
     "output_type": "execute_result"
    }
   ],
   "source": [
    "engagement_by_age = course_activity_merged.groupby('Age_Group')['Time_Spent_Minutes'].mean()\n",
    "engagement_by_location = course_activity_merged.groupby('Location')['Time_Spent_Minutes'].mean()\n",
    "\n",
    "{\n",
    "    'engagement_by_age' : round(engagement_by_age,2),\n",
    "    'engagement_by_location' : round(engagement_by_location,2)\n",
    "}"
   ]
  },
  {
   "cell_type": "markdown",
   "id": "adf3e857-f385-4fad-882e-9eab08af5918",
   "metadata": {},
   "source": [
    "### What is the average feedback rating per course?"
   ]
  },
  {
   "cell_type": "code",
   "execution_count": 21,
   "id": "4276cd66-b6b5-4687-99f3-04d9c4e49b80",
   "metadata": {},
   "outputs": [
    {
     "data": {
      "text/plain": [
       "Course_ID\n",
       "DM101    2.90\n",
       "PY202    3.28\n",
       "UX303    2.92\n",
       "WD404    2.79\n",
       "Name: Rating, dtype: float64"
      ]
     },
     "execution_count": 21,
     "metadata": {},
     "output_type": "execute_result"
    }
   ],
   "source": [
    "avg_rating_per_course = feedback_df.groupby('Course_ID')['Rating'].mean()\n",
    "round(avg_rating_per_course,2)"
   ]
  },
  {
   "cell_type": "markdown",
   "id": "2e9678c1-bfb4-49c0-b6eb-75c272475ad9",
   "metadata": {},
   "source": [
    "### Is there a correlation between completion rate and feedback rating?"
   ]
  },
  {
   "cell_type": "code",
   "execution_count": 22,
   "id": "b7f717d5-d0a8-4370-b935-f250c85e7505",
   "metadata": {},
   "outputs": [
    {
     "data": {
      "text/plain": [
       "{'feedback_activity':     Student_ID Course_ID  Rating         Feedback_Text       Date  \\\n",
       " 0         S057     UX303       2        Too fast-paced 2024-01-09   \n",
       " 1         S057     UX303       2        Too fast-paced 2024-03-10   \n",
       " 2         S063     PY202       2    Loved the examples 2024-02-25   \n",
       " 3         S063     PY202       2    Loved the examples 2024-01-21   \n",
       " 4         S063     PY202       2    Loved the examples 2024-02-14   \n",
       " ..         ...       ...     ...                   ...        ...   \n",
       " 117       S082     WD404       2        Too fast-paced 2024-03-12   \n",
       " 118       S067     DM101       5  Excellent instructor 2024-02-20   \n",
       " 119       S067     DM101       5  Excellent instructor 2024-01-06   \n",
       " 120       S002     PY202       3       Well structured 2024-02-03   \n",
       " 121       S002     PY202       3       Well structured 2024-03-06   \n",
       " \n",
       "      Time_Spent_Minutes  Completion_Percentage  \n",
       " 0                    98                  31.70  \n",
       " 1                    96                  83.22  \n",
       " 2                   138                  91.96  \n",
       " 3                    92                  94.13  \n",
       " 4                   142                  90.54  \n",
       " ..                  ...                    ...  \n",
       " 117                 145                  22.07  \n",
       " 118                 105                  81.54  \n",
       " 119                  19                  22.33  \n",
       " 120                  45                  32.20  \n",
       " 121                 136                  18.18  \n",
       " \n",
       " [122 rows x 7 columns],\n",
       " 'correlation': -0.05170765814948305}"
      ]
     },
     "execution_count": 22,
     "metadata": {},
     "output_type": "execute_result"
    }
   ],
   "source": [
    "# Merge feedback and activity on Student_ID & Course_ID\n",
    "feedback_activity = feedback_df.merge(course_activity_df, on=['Student_ID','Course_ID'])\n",
    "correlation = feedback_activity[['Completion_Percentage','Rating']].corr().iloc[0,1]\n",
    "{\n",
    "    'feedback_activity' : feedback_activity,\n",
    "    'correlation' : correlation\n",
    "}"
   ]
  },
  {
   "cell_type": "markdown",
   "id": "f364b2ef-f8e2-4cdc-a0a1-15f3993979f2",
   "metadata": {},
   "source": [
    "### Identify top 3 student segments based on engagement and satisfaction."
   ]
  },
  {
   "cell_type": "code",
   "execution_count": 23,
   "id": "7132f34c-9f9b-4f06-9626-a4024208e184",
   "metadata": {},
   "outputs": [],
   "source": [
    "# Add age group and location to feedback_activity\n",
    "feedback_activity = feedback_activity.merge(student_df[['Student_ID', 'Age', 'Gender', 'Location']],\n",
    "                                           on='Student_ID')\n",
    "feedback_activity['Age_Group'] = pd.cut(feedback_activity['Age'], \n",
    "                                       bins=bins, labels = labels, right=False)"
   ]
  },
  {
   "cell_type": "code",
   "execution_count": 24,
   "id": "25638ad3-8bbb-45f5-958c-31ce98ac0107",
   "metadata": {},
   "outputs": [
    {
     "name": "stderr",
     "output_type": "stream",
     "text": [
      "C:\\Users\\yoges\\AppData\\Local\\Temp\\ipykernel_29296\\2111409912.py:3: FutureWarning: The default of observed=False is deprecated and will be changed to True in a future version of pandas. Pass observed=False to retain current behavior or observed=True to adopt the future default and silence this warning.\n",
      "  segment_scores = feedback_activity.groupby(['Age_Group','Location'])[['Time_Spent_Minutes','Rating']].mean()\n"
     ]
    }
   ],
   "source": [
    "# Segment by Age Group and Location for combined score (engagement + satisfaction)\n",
    "\n",
    "segment_scores = feedback_activity.groupby(['Age_Group','Location'])[['Time_Spent_Minutes','Rating']].mean()\n",
    "segment_scores['Engagement_Satisfaction_Score'] = round(segment_scores['Time_Spent_Minutes'] \n",
    "                                                        + segment_scores['Rating'],2)\n",
    "Top_Segments = segment_scores.sort_values(by='Engagement_Satisfaction_Score', ascending=False).head(3)"
   ]
  },
  {
   "cell_type": "code",
   "execution_count": 25,
   "id": "7a0395e6-e177-4b17-a699-23d7467f7183",
   "metadata": {},
   "outputs": [
    {
     "data": {
      "text/html": [
       "<div>\n",
       "<style scoped>\n",
       "    .dataframe tbody tr th:only-of-type {\n",
       "        vertical-align: middle;\n",
       "    }\n",
       "\n",
       "    .dataframe tbody tr th {\n",
       "        vertical-align: top;\n",
       "    }\n",
       "\n",
       "    .dataframe thead th {\n",
       "        text-align: right;\n",
       "    }\n",
       "</style>\n",
       "<table border=\"1\" class=\"dataframe\">\n",
       "  <thead>\n",
       "    <tr style=\"text-align: right;\">\n",
       "      <th></th>\n",
       "      <th></th>\n",
       "      <th>Time_Spent_Minutes</th>\n",
       "      <th>Rating</th>\n",
       "      <th>Engagement_Satisfaction_Score</th>\n",
       "    </tr>\n",
       "    <tr>\n",
       "      <th>Age_Group</th>\n",
       "      <th>Location</th>\n",
       "      <th></th>\n",
       "      <th></th>\n",
       "      <th></th>\n",
       "    </tr>\n",
       "  </thead>\n",
       "  <tbody>\n",
       "    <tr>\n",
       "      <th>21-30</th>\n",
       "      <th>Bangalore</th>\n",
       "      <td>121.300000</td>\n",
       "      <td>3.000000</td>\n",
       "      <td>124.30</td>\n",
       "    </tr>\n",
       "    <tr>\n",
       "      <th>31-40</th>\n",
       "      <th>Delhi</th>\n",
       "      <td>118.500000</td>\n",
       "      <td>3.071429</td>\n",
       "      <td>121.57</td>\n",
       "    </tr>\n",
       "    <tr>\n",
       "      <th>&lt;20</th>\n",
       "      <th>Kolkata</th>\n",
       "      <td>113.666667</td>\n",
       "      <td>4.666667</td>\n",
       "      <td>118.33</td>\n",
       "    </tr>\n",
       "  </tbody>\n",
       "</table>\n",
       "</div>"
      ],
      "text/plain": [
       "                     Time_Spent_Minutes    Rating  \\\n",
       "Age_Group Location                                  \n",
       "21-30     Bangalore          121.300000  3.000000   \n",
       "31-40     Delhi              118.500000  3.071429   \n",
       "<20       Kolkata            113.666667  4.666667   \n",
       "\n",
       "                     Engagement_Satisfaction_Score  \n",
       "Age_Group Location                                  \n",
       "21-30     Bangalore                         124.30  \n",
       "31-40     Delhi                             121.57  \n",
       "<20       Kolkata                           118.33  "
      ]
     },
     "execution_count": 25,
     "metadata": {},
     "output_type": "execute_result"
    }
   ],
   "source": [
    "Top_Segments"
   ]
  },
  {
   "cell_type": "markdown",
   "id": "fd232b1d-7557-4519-bdac-345a1d940646",
   "metadata": {},
   "source": [
    "## Results "
   ]
  },
  {
   "cell_type": "code",
   "execution_count": 26,
   "id": "a3b8482d-acc6-4ea0-b085-0d1e4097f18c",
   "metadata": {},
   "outputs": [
    {
     "data": {
      "text/plain": [
       "{'Average Completion Rate': 54.78,\n",
       " 'Course with Highest Engagement Time': ('DM101', 102.42767295597484),\n",
       " 'Course with Lowest Engagement Time': ('PY202', 93.90243902439025),\n",
       " 'Engagement by Age Group': Age_Group\n",
       " <20      104.109890\n",
       " 21-30     97.796069\n",
       " 31-40     95.527950\n",
       " 40+             NaN\n",
       " Name: Time_Spent_Minutes, dtype: float64,\n",
       " 'Engagement by Location': Location\n",
       " Kolkata      104.384615\n",
       " Delhi        103.302857\n",
       " Bangalore     98.000000\n",
       " Mumbai        95.435484\n",
       " Chennai       90.946746\n",
       " Name: Time_Spent_Minutes, dtype: float64,\n",
       " 'Average Rating per Course': Course_ID\n",
       " PY202    3.277778\n",
       " UX303    2.923077\n",
       " DM101    2.900000\n",
       " WD404    2.789474\n",
       " Name: Rating, dtype: float64,\n",
       " 'Correlation between Completion & Rating': -0.05170765814948305,\n",
       " 'Top 3 Segments by Engagement & Satisfaction':                      Time_Spent_Minutes    Rating  \\\n",
       " Age_Group Location                                  \n",
       " 21-30     Bangalore          121.300000  3.000000   \n",
       " 31-40     Delhi              118.500000  3.071429   \n",
       " <20       Kolkata            113.666667  4.666667   \n",
       " \n",
       "                      Engagement_Satisfaction_Score  \n",
       " Age_Group Location                                  \n",
       " 21-30     Bangalore                         124.30  \n",
       " 31-40     Delhi                             121.57  \n",
       " <20       Kolkata                           118.33  }"
      ]
     },
     "execution_count": 26,
     "metadata": {},
     "output_type": "execute_result"
    }
   ],
   "source": [
    "\n",
    "{\n",
    "    \"Average Completion Rate\": avg_completion_rate,\n",
    "    \"Course with Highest Engagement Time\": (highest_engagement_course, avg_time_per_course[highest_engagement_course]),\n",
    "    \"Course with Lowest Engagement Time\": (lowest_engagement_course, avg_time_per_course[lowest_engagement_course]),\n",
    "    \"Engagement by Age Group\": engagement_by_age,\n",
    "    \"Engagement by Location\": engagement_by_location.sort_values(ascending=False),\n",
    "    \"Average Rating per Course\": avg_rating_per_course.sort_values(ascending=False),\n",
    "    \"Correlation between Completion & Rating\": correlation,\n",
    "    \"Top 3 Segments by Engagement & Satisfaction\": Top_Segments\n",
    "}\n"
   ]
  },
  {
   "cell_type": "markdown",
   "id": "3d800d06-02a7-4c14-a1fc-d38523433300",
   "metadata": {},
   "source": [
    "## Visualisations"
   ]
  },
  {
   "cell_type": "markdown",
   "id": "08527525-ad5a-49a3-9487-e4e600723258",
   "metadata": {},
   "source": [
    "### Engagement by Course"
   ]
  },
  {
   "cell_type": "code",
   "execution_count": 27,
   "id": "e87a5926-c429-479f-890c-c7bbdae05b3f",
   "metadata": {},
   "outputs": [
    {
     "name": "stderr",
     "output_type": "stream",
     "text": [
      "C:\\Users\\yoges\\AppData\\Local\\Temp\\ipykernel_29296\\1424984795.py:2: FutureWarning: \n",
      "\n",
      "Passing `palette` without assigning `hue` is deprecated and will be removed in v0.14.0. Assign the `x` variable to `hue` and set `legend=False` for the same effect.\n",
      "\n",
      "  sns.boxplot(data=course_activity_merged, x='Course_ID', y='Time_Spent_Minutes',\n"
     ]
    },
    {
     "data": {
      "image/png": "[encoded data removed]",
      "text/plain": [
       "<Figure size 1000x500 with 1 Axes>"
      ]
     },
     "metadata": {},
     "output_type": "display_data"
    }
   ],
   "source": [
    "plt.figure(figsize=(10,5))\n",
    "sns.boxplot(data=course_activity_merged, x='Course_ID', y='Time_Spent_Minutes',\n",
    "             palette='coolwarm')\n",
    "plt.title('Engagement Distribution by Course')\n",
    "plt.ylabel(\"Time Spent (Minutes)\")\n",
    "plt.xlabel(\"Course\")\n",
    "plt.tight_layout()\n",
    "plt.show()"
   ]
  },
  {
   "cell_type": "markdown",
   "id": "b5008158-4870-48ee-b43b-b27e10c62014",
   "metadata": {},
   "source": [
    "###  Engagement by Age Group and Gender"
   ]
  },
  {
   "cell_type": "code",
   "execution_count": 28,
   "id": "002b24c2-b847-447c-af22-4865afa3987b",
   "metadata": {},
   "outputs": [
    {
     "data": {
      "image/png": "[encoded data removed]",
      "text/plain": [
       "<Figure size 1000x500 with 1 Axes>"
      ]
     },
     "metadata": {},
     "output_type": "display_data"
    }
   ],
   "source": [
    "plt.figure(figsize=(10,5))\n",
    "sns.barplot(data=course_activity_merged, x='Age_Group', y='Time_Spent_Minutes',\n",
    "           hue='Gender', palette='pastel')\n",
    "plt.title('Average Engagement by Age Grop and Gender')\n",
    "plt.ylabel('Average Time Spent (Minutes)')\n",
    "plt.xlabel('Age Group')\n",
    "plt.tight_layout()\n",
    "plt.show()"
   ]
  },
  {
   "cell_type": "markdown",
   "id": "69438b7b-5b33-4b50-9c9e-c009889e3c25",
   "metadata": {},
   "source": [
    "### Feedback Ratings per Course"
   ]
  },
  {
   "cell_type": "code",
   "execution_count": 29,
   "id": "19e2aa26-d0e0-482a-91df-0bb51ee0fee3",
   "metadata": {},
   "outputs": [
    {
     "data": {
      "text/plain": [
       "Course_ID\n",
       "DM101    2.900000\n",
       "PY202    3.277778\n",
       "UX303    2.923077\n",
       "WD404    2.789474\n",
       "Name: Rating, dtype: float64"
      ]
     },
     "execution_count": 29,
     "metadata": {},
     "output_type": "execute_result"
    }
   ],
   "source": [
    "avg_rating_per_course "
   ]
  },
  {
   "cell_type": "code",
   "execution_count": 30,
   "id": "d096bc7b-3205-4def-9df3-40bfa87617de",
   "metadata": {},
   "outputs": [
    {
     "name": "stderr",
     "output_type": "stream",
     "text": [
      "C:\\Users\\yoges\\AppData\\Local\\Temp\\ipykernel_29296\\2894083969.py:2: FutureWarning: \n",
      "\n",
      "Passing `palette` without assigning `hue` is deprecated and will be removed in v0.14.0. Assign the `x` variable to `hue` and set `legend=False` for the same effect.\n",
      "\n",
      "  sns.barplot(x = avg_rating_per_course.index, y = avg_rating_per_course.values,\n"
     ]
    },
    {
     "data": {
      "image/png": "[encoded data removed]",
      "text/plain": [
       "<Figure size 800x500 with 1 Axes>"
      ]
     },
     "metadata": {},
     "output_type": "display_data"
    }
   ],
   "source": [
    "plt.figure(figsize=(8,5))\n",
    "sns.barplot(x = avg_rating_per_course.index, y = avg_rating_per_course.values,\n",
    "           palette = 'Oranges_d')\n",
    "plt.title(\"Average Feedback Rating per Course \")\n",
    "plt.xlabel('Course ID')\n",
    "plt.ylabel('Average Rating')\n",
    "plt.ylim(0,5)\n",
    "plt.tight_layout()\n",
    "plt.show()"
   ]
  },
  {
   "cell_type": "markdown",
   "id": "76ac4068-972a-439b-958b-e4b2301a099e",
   "metadata": {},
   "source": [
    "### Completion vs Rating (Correlation Scatter)"
   ]
  },
  {
   "cell_type": "code",
   "execution_count": 31,
   "id": "e72fab0c-3b34-479f-990a-5b5610f90e1c",
   "metadata": {},
   "outputs": [
    {
     "data": {
      "image/png": "[encoded data removed]",
      "text/plain": [
       "<Figure size 700x500 with 1 Axes>"
      ]
     },
     "metadata": {},
     "output_type": "display_data"
    }
   ],
   "source": [
    "plt.figure(figsize=(7,5))\n",
    "sns.scatterplot(data=feedback_activity, x = 'Completion_Percentage', y = \"Rating\",\n",
    "               hue = 'Course_ID', palette = 'Set2')\n",
    "plt.title('Completion Percentage vs Feedback Rating')\n",
    "plt.xlabel('Completion Percentage')\n",
    "plt.ylabel('Rating')\n",
    "plt.tight_layout()\n",
    "plt.show()"
   ]
  },
  {
   "cell_type": "markdown",
   "id": "3493ab04-9160-44f9-bfb1-124f52a31ff3",
   "metadata": {},
   "source": [
    "###  Engagement Trend Over Time"
   ]
  },
  {
   "cell_type": "code",
   "execution_count": 32,
   "id": "920d34df-c2bb-4646-9bbf-8d210bd85957",
   "metadata": {},
   "outputs": [],
   "source": [
    " # 7-day rolling average\n",
    "activity_over_time = course_activity_df.groupby('Date')['Time_Spent_Minutes'].mean().rolling(7).mean() "
   ]
  },
  {
   "cell_type": "code",
   "execution_count": 33,
   "id": "0f54a037-09b2-4699-aa43-2e9a68a1fdb7",
   "metadata": {},
   "outputs": [
    {
     "data": {
      "text/plain": [
       "Date\n",
       "2024-01-01           NaN\n",
       "2024-01-02           NaN\n",
       "2024-01-03           NaN\n",
       "2024-01-04           NaN\n",
       "2024-01-05           NaN\n",
       "                 ...    \n",
       "2024-03-27     98.800397\n",
       "2024-03-28     95.860714\n",
       "2024-03-29     95.984524\n",
       "2024-03-30    100.460714\n",
       "2024-03-31     99.415816\n",
       "Name: Time_Spent_Minutes, Length: 91, dtype: float64"
      ]
     },
     "execution_count": 33,
     "metadata": {},
     "output_type": "execute_result"
    }
   ],
   "source": [
    "activity_over_time"
   ]
  },
  {
   "cell_type": "code",
   "execution_count": 34,
   "id": "e3827baf-05bf-43c1-b801-d140220927db",
   "metadata": {},
   "outputs": [
    {
     "data": {
      "image/png": "[encoded data removed]",
      "text/plain": [
       "<Figure size 1200x500 with 1 Axes>"
      ]
     },
     "metadata": {},
     "output_type": "display_data"
    }
   ],
   "source": [
    "plt.figure(figsize=(12, 5))\n",
    "activity_over_time.plot(color='purple')\n",
    "plt.title(\"Engagement Trend Over Time (7-Day Average)\")\n",
    "plt.ylabel(\"Avg Time Spent (Minutes)\")\n",
    "plt.xlabel(\"Date\")\n",
    "plt.tight_layout()\n",
    "plt.show()"
   ]
  },
  {
   "cell_type": "code",
   "execution_count": null,
   "id": "a5fdbf76-ec85-423c-aa42-1ed11a176e5f",
   "metadata": {},
   "outputs": [],
   "source": []
  }
 ],
 "metadata": {
  "kernelspec": {
   "display_name": "Python 3 (ipykernel)",
   "language": "python",
   "name": "python3"
  },
  "language_info": {
   "codemirror_mode": {
    "name": "ipython",
    "version": 3
   },
   "file_extension": ".py",
   "mimetype": "text/x-python",
   "name": "python",
   "nbconvert_exporter": "python",
   "pygments_lexer": "ipython3",
   "version": "3.12.7"
  }
 },
 "nbformat": 4,
 "nbformat_minor": 5
}
